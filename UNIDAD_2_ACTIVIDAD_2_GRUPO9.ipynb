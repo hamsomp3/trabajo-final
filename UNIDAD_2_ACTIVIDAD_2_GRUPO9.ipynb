{
  "cells": [
    {
      "cell_type": "markdown",
      "metadata": {},
      "source": [
        "# **Implementación de las hipotesis**\n",
        "\n",
        "Informe final **Grupo 9**\n",
        "\n",
        "Jan Polanco\\\n",
        "Keyner Martínez\\\n",
        "Jorge Mora\\\n",
        "Juan Paz\n",
        "\n",
        "## Conjunto de Datos de Yelp\n",
        "\n",
        "Pendiente por agregar mas informacion.\n",
        "\n",
        "### Contenido del Dataset\n",
        "- **review_id:**\n",
        "- **user_id:**\n",
        "- **business_id:**\n",
        "- **stars:**\n",
        "- **useful:**\n",
        "- **funny:**\n",
        "- **cool:**\n",
        "- **text:**\n",
        "- **date:**\n",
        "\n",
        "Para acceder a la versión más reciente del conjunto de datos proporcionada por IBM, visite el siguiente enlace: [Yelp Dataset](https://javerianacaliedu-my.sharepoint.com/:f:/g/personal/abuss_javerianacali_edu_co/EqgSYnRKWYNEmAwYE7-_-TYBISFAsGx31Etz73geJ1fXxA?e=vQJNLk )."
      ]
    },
    {
      "cell_type": "markdown",
      "metadata": {},
      "source": [
        "# Rubrica de evaluación"
      ]
    },
    {
      "cell_type": "markdown",
      "metadata": {},
      "source": [
        "| Criterios                     | Nivel 1 | Nivel 2 | Nivel 3 | Nivel 4 | Puntuación del criterio |\n",
        "|-------------------------------|---------|---------|---------|---------|------------------------|\n",
        "| Preparación de datos          | 0 puntos| 0.2 puntos| 0.4 puntos| 0.5 puntos| /0.5                  |\n",
        "| Procesamiento de datos numéricos | 0 puntos| 0.2 puntos| 0.4 puntos| 0.5 puntos| /0.5                  |\n",
        "| Procesamiento de datos textuales | 0 puntos| 0.2 puntos| 0.4 puntos| 0.5 puntos| /0.5                  |\n",
        "| Estimación del número de clusters a generar | 0 puntos| 0.2 puntos| 0.4 puntos| 0.5 puntos| /0.5          |\n",
        "| Construcción del modelo       | 0 puntos| 0.2 puntos| 0.4 puntos| 0.5 puntos| /0.5                  |\n",
        "| Evaluación de los resultados  | 0 puntos| 0.4 puntos| 0.8 puntos| 1.25 puntos| /1.25                |\n",
        "| Análisis de los resultados    | 0 puntos| 0.4 puntos| 0.8 puntos| 1.25 puntos| /1.25                |\n"
      ]
    },
    {
      "cell_type": "markdown",
      "metadata": {},
      "source": [
        "## Etapa 1: Entedimientos de los datos"
      ]
    },
    {
      "cell_type": "code",
      "execution_count": 3,
      "metadata": {
        "id": "zQzDAkezEjEX"
      },
      "outputs": [
        {
          "name": "stderr",
          "output_type": "stream",
          "text": [
            "[nltk_data] Downloading package stopwords to\n",
            "[nltk_data]     C:\\Users\\hamso\\AppData\\Roaming\\nltk_data...\n",
            "[nltk_data]   Package stopwords is already up-to-date!\n"
          ]
        }
      ],
      "source": [
        "import re\n",
        "import tiktoken\n",
        "#import time\n",
        "#import itertools\n",
        "#import numpy as np\n",
        "import pandas as pd\n",
        "import pathlib as pl\n",
        "#from tqdm import tqdm\n",
        "import seaborn as sns\n",
        "\n",
        "#from sklearn.svm import SVC\n",
        "#from scipy import stats\n",
        "#import plotly.express as px\n",
        "#from sklearn.utils import resample\n",
        "import matplotlib.pyplot as plt\n",
        "import matplotlib.dates as mdates\n",
        "from sklearn.feature_extraction.text import CountVectorizer\n",
        "\n",
        "\n",
        "import string\n",
        "import nltk\n",
        "from nltk.tokenize import WordPunctTokenizer\n",
        "nltk.download('stopwords')\n",
        "#nltk.download('wordnet')\n",
        "from nltk.corpus import stopwords\n",
        "#from nltk.stem import WordNetLemmatizer\n",
        "\n",
        "\n",
        "\n",
        "#from matplotlib.patheffects import withStroke\n",
        "#from sklearn.ensemble import RandomForestClassifier\n",
        "#from sklearn.linear_model import LogisticRegression\n",
        "#from sklearn.model_selection import train_test_split\n",
        "#from sklearn.preprocessing import LabelEncoder as LE\n",
        "#from sklearn.preprocessing import StandardScaler\n",
        "#from yellowbrick.classifier import ClassificationReport\n",
        "#from yellowbrick.classifier import ConfusionMatrix\n",
        "#from yellowbrick.classifier import ROCAUC\n",
        "#from sklearn.metrics import classification_report\n",
        "#from sklearn.model_selection import GridSearchCV # Grid search cross validation\n",
        "#from sklearn.model_selection import RandomizedSearchCV # Random search cross validation"
      ]
    },
    {
      "cell_type": "code",
      "execution_count": 9,
      "metadata": {},
      "outputs": [],
      "source": [
        "current_path    = pl.Path.cwd()\n",
        "new_folder      = current_path.joinpath('img').mkdir(exist_ok=True)\n",
        "img_path        = current_path.joinpath('img')"
      ]
    },
    {
      "cell_type": "code",
      "execution_count": 8,
      "metadata": {},
      "outputs": [
        {
          "data": {
            "text/html": [
              "<div>\n",
              "<style scoped>\n",
              "    .dataframe tbody tr th:only-of-type {\n",
              "        vertical-align: middle;\n",
              "    }\n",
              "\n",
              "    .dataframe tbody tr th {\n",
              "        vertical-align: top;\n",
              "    }\n",
              "\n",
              "    .dataframe thead th {\n",
              "        text-align: right;\n",
              "    }\n",
              "</style>\n",
              "<table border=\"1\" class=\"dataframe\">\n",
              "  <thead>\n",
              "    <tr style=\"text-align: right;\">\n",
              "      <th></th>\n",
              "      <th>review_id</th>\n",
              "      <th>user_id</th>\n",
              "      <th>business_id</th>\n",
              "      <th>stars</th>\n",
              "      <th>useful</th>\n",
              "      <th>funny</th>\n",
              "      <th>cool</th>\n",
              "      <th>text</th>\n",
              "      <th>date</th>\n",
              "    </tr>\n",
              "  </thead>\n",
              "  <tbody>\n",
              "    <tr>\n",
              "      <th>0</th>\n",
              "      <td>rGQRf8UafX7OTlMNN19I8A</td>\n",
              "      <td>1WHRWwQmZOZDAhp2Qyny4g</td>\n",
              "      <td>uMvVYRgGNXf5boolA9HXTw</td>\n",
              "      <td>2.5</td>\n",
              "      <td>2</td>\n",
              "      <td>0</td>\n",
              "      <td>0</td>\n",
              "      <td>My experience with Shalimar was nothing but wo...</td>\n",
              "      <td>2015-06-21 14:48:06</td>\n",
              "    </tr>\n",
              "    <tr>\n",
              "      <th>1</th>\n",
              "      <td>OAhBYw8IQ6wlfw1owXWRWw</td>\n",
              "      <td>1C2lxzUo1Hyye4RFIXly3g</td>\n",
              "      <td>BVndHaLihEYbr76Z0CMEGw</td>\n",
              "      <td>4.5</td>\n",
              "      <td>0</td>\n",
              "      <td>0</td>\n",
              "      <td>0</td>\n",
              "      <td>Great place for breakfast! I had the waffle, w...</td>\n",
              "      <td>2014-10-11 16:22:06</td>\n",
              "    </tr>\n",
              "    <tr>\n",
              "      <th>2</th>\n",
              "      <td>u2vzZaOqJ2feRshaaF1doQ</td>\n",
              "      <td>NDZvyYHTUWWu-kqgQzzDGQ</td>\n",
              "      <td>CLEWowfkj-wKYJlQDqT1aw</td>\n",
              "      <td>4.0</td>\n",
              "      <td>2</td>\n",
              "      <td>0</td>\n",
              "      <td>1</td>\n",
              "      <td>I go to blow bar to get my brows done by natal...</td>\n",
              "      <td>2016-03-07 00:02:18</td>\n",
              "    </tr>\n",
              "    <tr>\n",
              "      <th>3</th>\n",
              "      <td>mO398Ed5dpv1H5ZsKc8KXw</td>\n",
              "      <td>yobeeTUBfaTBcnk26mXNuA</td>\n",
              "      <td>hKameFsaXh9g8WQbv593UA</td>\n",
              "      <td>3.5</td>\n",
              "      <td>0</td>\n",
              "      <td>0</td>\n",
              "      <td>0</td>\n",
              "      <td>Food was good- atmosphere/decor is like a fish...</td>\n",
              "      <td>2015-04-15 15:30:48</td>\n",
              "    </tr>\n",
              "    <tr>\n",
              "      <th>4</th>\n",
              "      <td>TcCcHzc3L6Aboq3DteEfZA</td>\n",
              "      <td>OuatwND396ZQxm2zK8WlUQ</td>\n",
              "      <td>jNL5KUPz2-tHUJM__ysSaw</td>\n",
              "      <td>4.0</td>\n",
              "      <td>1</td>\n",
              "      <td>0</td>\n",
              "      <td>0</td>\n",
              "      <td>If you want to pay for everything a la carte t...</td>\n",
              "      <td>2014-08-24 20:14:12</td>\n",
              "    </tr>\n",
              "  </tbody>\n",
              "</table>\n",
              "</div>"
            ],
            "text/plain": [
              "                review_id                 user_id             business_id  \\\n",
              "0  rGQRf8UafX7OTlMNN19I8A  1WHRWwQmZOZDAhp2Qyny4g  uMvVYRgGNXf5boolA9HXTw   \n",
              "1  OAhBYw8IQ6wlfw1owXWRWw  1C2lxzUo1Hyye4RFIXly3g  BVndHaLihEYbr76Z0CMEGw   \n",
              "2  u2vzZaOqJ2feRshaaF1doQ  NDZvyYHTUWWu-kqgQzzDGQ  CLEWowfkj-wKYJlQDqT1aw   \n",
              "3  mO398Ed5dpv1H5ZsKc8KXw  yobeeTUBfaTBcnk26mXNuA  hKameFsaXh9g8WQbv593UA   \n",
              "4  TcCcHzc3L6Aboq3DteEfZA  OuatwND396ZQxm2zK8WlUQ  jNL5KUPz2-tHUJM__ysSaw   \n",
              "\n",
              "   stars  useful  funny  cool  \\\n",
              "0    2.5       2      0     0   \n",
              "1    4.5       0      0     0   \n",
              "2    4.0       2      0     1   \n",
              "3    3.5       0      0     0   \n",
              "4    4.0       1      0     0   \n",
              "\n",
              "                                                text                date  \n",
              "0  My experience with Shalimar was nothing but wo... 2015-06-21 14:48:06  \n",
              "1  Great place for breakfast! I had the waffle, w... 2014-10-11 16:22:06  \n",
              "2  I go to blow bar to get my brows done by natal... 2016-03-07 00:02:18  \n",
              "3  Food was good- atmosphere/decor is like a fish... 2015-04-15 15:30:48  \n",
              "4  If you want to pay for everything a la carte t... 2014-08-24 20:14:12  "
            ]
          },
          "execution_count": 8,
          "metadata": {},
          "output_type": "execute_result"
        }
      ],
      "source": [
        "local = True\n",
        "\n",
        "if local:\n",
        "    df = pd.read_parquet(current_path.joinpath('dataset', 'yelp_academic_dataset_review_FL.parquet'))\n",
        "else:\n",
        "    !git clone https://github.com/hamsomp3/trabajo-final.git\n",
        "    %cd trabajo-final/dataset\n",
        "    df = pd.read_parquet('/content/trabajo-final/dataset/yelp_academic_dataset_review_FL.parquet')\n",
        "\n",
        "df.head()\n"
      ]
    },
    {
      "cell_type": "markdown",
      "metadata": {},
      "source": [
        "# Descripción de Variables en Reseñas\n",
        "\n",
        "Cada reseña en el sistema contiene varias variables que proporcionan información detallada sobre la opinión del usuario y el negocio revisado. A continuación, se detalla cada variable y su significado:\n",
        "\n",
        "## Variables\n",
        "\n",
        "### `review_id`\n",
        "- **Tipo**: `string`\n",
        "- **Descripción**: Identificador único de 22 caracteres para cada reseña.\n",
        "\n",
        "### `user_id`\n",
        "- **Tipo**: `string`\n",
        "- **Descripción**: Identificador único de 22 caracteres para el usuario que escribe la reseña. Se vincula con el usuario en `user.json`.\n",
        "\n",
        "### `business_id`\n",
        "- **Tipo**: `string`\n",
        "- **Descripción**: Identificador único de 22 caracteres para el negocio revisado. Se vincula con el negocio en `business.json`.\n",
        "\n",
        "### `stars`\n",
        "- **Tipo**: `integer`\n",
        "- **Descripción**: Calificación en estrellas otorgada por el usuario al negocio. Varía de 1 a 5.\n",
        "\n",
        "### `date`\n",
        "- **Tipo**: `string` (formato `YYYY-MM-DD`)\n",
        "- **Descripción**: Fecha en que se realizó la reseña.\n",
        "\n",
        "### `text`\n",
        "- **Tipo**: `string`\n",
        "- **Descripción**: Texto de la reseña escrita por el usuario.\n",
        "\n",
        "### `useful`\n",
        "- **Tipo**: `integer`\n",
        "- **Descripción**: Número de votos recibidos que indican que la reseña fue útil.\n",
        "\n",
        "### `funny`\n",
        "- **Tipo**: `integer`\n",
        "- **Descripción**: Número de votos recibidos que indican que la reseña fue divertida.\n",
        "\n",
        "### `cool`\n",
        "- **Tipo**: `integer`\n",
        "- **Descripción**: Número de votos recibidos que indican que la reseña fue interesante o \"cool\".\n"
      ]
    },
    {
      "cell_type": "code",
      "execution_count": 10,
      "metadata": {},
      "outputs": [
        {
          "data": {
            "text/plain": [
              "review_id              object\n",
              "user_id                object\n",
              "business_id            object\n",
              "stars                 float64\n",
              "useful                  int64\n",
              "funny                   int64\n",
              "cool                    int64\n",
              "text                   object\n",
              "date           datetime64[ns]\n",
              "dtype: object"
            ]
          },
          "execution_count": 10,
          "metadata": {},
          "output_type": "execute_result"
        }
      ],
      "source": [
        "df.dtypes"
      ]
    },
    {
      "cell_type": "code",
      "execution_count": 11,
      "metadata": {},
      "outputs": [
        {
          "data": {
            "text/plain": [
              "Index(['review_id', 'user_id', 'business_id', 'stars', 'useful', 'funny',\n",
              "       'cool', 'text', 'date'],\n",
              "      dtype='object')"
            ]
          },
          "execution_count": 11,
          "metadata": {},
          "output_type": "execute_result"
        }
      ],
      "source": [
        "df.columns"
      ]
    },
    {
      "cell_type": "code",
      "execution_count": 12,
      "metadata": {
        "colab": {
          "base_uri": "https://localhost:8080/"
        },
        "id": "lQDadkzJEi34",
        "outputId": "08a8adf8-0372-4cec-d994-1661f87b26ee"
      },
      "outputs": [
        {
          "name": "stdout",
          "output_type": "stream",
          "text": [
            "El dataset tiene 1161545 filas y 9 columnas.\n",
            "El número de registros es:  1161545\n",
            "El número de atributos es:  9\n"
          ]
        }
      ],
      "source": [
        "print('El dataset tiene {} filas y {} columnas.'.format(df.shape[0], df.shape[1]))\n",
        "print(\"El número de registros es: \", df.shape[0])\n",
        "print(\"El número de atributos es: \", df.shape[1])"
      ]
    },
    {
      "cell_type": "code",
      "execution_count": 13,
      "metadata": {},
      "outputs": [
        {
          "data": {
            "text/plain": [
              "review_id      0\n",
              "user_id        0\n",
              "business_id    0\n",
              "stars          0\n",
              "useful         0\n",
              "funny          0\n",
              "cool           0\n",
              "text           0\n",
              "date           0\n",
              "dtype: int64"
            ]
          },
          "execution_count": 13,
          "metadata": {},
          "output_type": "execute_result"
        }
      ],
      "source": [
        "df.isnull().sum()"
      ]
    },
    {
      "cell_type": "markdown",
      "metadata": {},
      "source": [
        "## Variables Numéricas"
      ]
    },
    {
      "cell_type": "code",
      "execution_count": 14,
      "metadata": {
        "colab": {
          "base_uri": "https://localhost:8080/",
          "height": 300
        },
        "id": "6efIAtEAokgO",
        "outputId": "4523aa75-d22e-4ccc-9970-2633d05895c6"
      },
      "outputs": [
        {
          "data": {
            "text/html": [
              "<div>\n",
              "<style scoped>\n",
              "    .dataframe tbody tr th:only-of-type {\n",
              "        vertical-align: middle;\n",
              "    }\n",
              "\n",
              "    .dataframe tbody tr th {\n",
              "        vertical-align: top;\n",
              "    }\n",
              "\n",
              "    .dataframe thead th {\n",
              "        text-align: right;\n",
              "    }\n",
              "</style>\n",
              "<table border=\"1\" class=\"dataframe\">\n",
              "  <thead>\n",
              "    <tr style=\"text-align: right;\">\n",
              "      <th></th>\n",
              "      <th>stars</th>\n",
              "      <th>useful</th>\n",
              "      <th>funny</th>\n",
              "      <th>cool</th>\n",
              "    </tr>\n",
              "  </thead>\n",
              "  <tbody>\n",
              "    <tr>\n",
              "      <th>count</th>\n",
              "      <td>1161545.000</td>\n",
              "      <td>1161545.000</td>\n",
              "      <td>1161545.000</td>\n",
              "      <td>1161545.000</td>\n",
              "    </tr>\n",
              "    <tr>\n",
              "      <th>mean</th>\n",
              "      <td>3.767</td>\n",
              "      <td>1.109</td>\n",
              "      <td>0.285</td>\n",
              "      <td>0.494</td>\n",
              "    </tr>\n",
              "    <tr>\n",
              "      <th>std</th>\n",
              "      <td>0.762</td>\n",
              "      <td>3.207</td>\n",
              "      <td>1.510</td>\n",
              "      <td>2.496</td>\n",
              "    </tr>\n",
              "    <tr>\n",
              "      <th>min</th>\n",
              "      <td>1.000</td>\n",
              "      <td>-1.000</td>\n",
              "      <td>-1.000</td>\n",
              "      <td>-1.000</td>\n",
              "    </tr>\n",
              "    <tr>\n",
              "      <th>25%</th>\n",
              "      <td>3.500</td>\n",
              "      <td>0.000</td>\n",
              "      <td>0.000</td>\n",
              "      <td>0.000</td>\n",
              "    </tr>\n",
              "    <tr>\n",
              "      <th>50%</th>\n",
              "      <td>4.000</td>\n",
              "      <td>0.000</td>\n",
              "      <td>0.000</td>\n",
              "      <td>0.000</td>\n",
              "    </tr>\n",
              "    <tr>\n",
              "      <th>75%</th>\n",
              "      <td>4.500</td>\n",
              "      <td>1.000</td>\n",
              "      <td>0.000</td>\n",
              "      <td>0.000</td>\n",
              "    </tr>\n",
              "    <tr>\n",
              "      <th>max</th>\n",
              "      <td>5.000</td>\n",
              "      <td>227.000</td>\n",
              "      <td>159.000</td>\n",
              "      <td>207.000</td>\n",
              "    </tr>\n",
              "  </tbody>\n",
              "</table>\n",
              "</div>"
            ],
            "text/plain": [
              "             stars       useful        funny         cool\n",
              "count  1161545.000  1161545.000  1161545.000  1161545.000\n",
              "mean         3.767        1.109        0.285        0.494\n",
              "std          0.762        3.207        1.510        2.496\n",
              "min          1.000       -1.000       -1.000       -1.000\n",
              "25%          3.500        0.000        0.000        0.000\n",
              "50%          4.000        0.000        0.000        0.000\n",
              "75%          4.500        1.000        0.000        0.000\n",
              "max          5.000      227.000      159.000      207.000"
            ]
          },
          "execution_count": 14,
          "metadata": {},
          "output_type": "execute_result"
        }
      ],
      "source": [
        "df.describe().round(3)"
      ]
    },
    {
      "cell_type": "code",
      "execution_count": 15,
      "metadata": {},
      "outputs": [
        {
          "data": {
            "text/plain": [
              "review_id                                 ehUVIpfylhrxraozNY_TDQ\n",
              "user_id                                   JjXuiru1_ONzDkYVrHN0aw\n",
              "business_id                               SNxUXrSr-XkEkSQIdjmjhA\n",
              "stars                                                        3.5\n",
              "useful                                                       227\n",
              "funny                                                        159\n",
              "cool                                                         207\n",
              "text           I've been coming to Hank's Catfish & BBQ for m...\n",
              "date                                         2018-12-10 18:16:28\n",
              "Name: 778031, dtype: object"
            ]
          },
          "execution_count": 15,
          "metadata": {},
          "output_type": "execute_result"
        }
      ],
      "source": [
        "df.loc[df['useful'].idxmax()]"
      ]
    },
    {
      "cell_type": "markdown",
      "metadata": {},
      "source": [
        "1. **Conteo (count)**: Esta fila muestra el número total de valores no nulos en cada columna. En este caso, cada columna tiene 1,161,545 entradas, lo que significa que no hay valores nulos en ninguna de las columnas y que el dataset es bastante grande.\n",
        "2. **Media (mean)**: La fila de la media calcula el valor promedio de cada columna. Las puntuaciones promedio (`stars`) son de 3.767, lo que sugiere una tendencia hacia reseñas positivas, ya que es más cercano a 5 que a 1. Los valores medios de `useful`, `funny` y `cool` son bastante bajos (1.109, 0.285 y 0.494 respectivamente), indicando que, en promedio, las reseñas reciben pocos votos que se marcan a menudo como útiles, divertidas o cool.\n",
        "3. **Desviación estándar (std)**: Esta fila muestra la variabilidad o dispersión de los datos. Para `stars`, una desviación estándar de 0.762 indica que la mayoría de las puntuaciones están dentro de un rango relativamente estrecho alrededor del promedio. Las desviaciones estándar de `useful`, `funny` y `cool` sugieren una leve variabilidad en cómo los usuarios votan las reseñas con estas etiquetas.\n",
        "4. **Mínimo (min)**: El mínimo es el valor más bajo en cada columna. Interesantemente, las columnas `useful`, `funny` y `cool` tienen valores mínimos negativos (-1), lo que podría ser un error ya que no se esperarían votos negativos en estas categorías.\n",
        "5. **Percentiles (25%, 50%, 75%)**: Estos valores describen la distribución de los datos.\n",
        "   - El percentil 25% indica que el 25% de las puntuaciones son de 3.5 o inferiores para las `stars`.\n",
        "   - El percentil 50%, o mediana, muestra que la mitad de las puntuaciones son de 4.0 o inferiores para las `stars`.\n",
        "   - El percentil 75% indica que el 75% de las puntuaciones son de 4.5 o inferiores para las `stars`.\n",
        "6. **Máximo (max)**: El valor más alto en cada columna. En `stars`, el máximo es 5, que es la puntuación más alta posible. Para `useful`, `funny` y `cool`, la cantidad máxima de votos son 227, 159 y 207 respectivamente. Por ejemplo el caso del `JjXuiru1_ONzDkYVrHN0aw` escribió el `ehUVIpfylhrxraozNY_TDQ` sobre el negocio `SNxUXrSr-XkEkSQIdjmjhA` y obtuvo 227 votos considerando la reseña como útil."
      ]
    },
    {
      "cell_type": "code",
      "execution_count": 16,
      "metadata": {},
      "outputs": [
        {
          "name": "stdout",
          "output_type": "stream",
          "text": [
            "Index(['stars', 'useful', 'funny', 'cool'], dtype='object')\n"
          ]
        }
      ],
      "source": [
        "numerical_features = df.select_dtypes(include=['number']).columns\n",
        "print(numerical_features)"
      ]
    },
    {
      "cell_type": "code",
      "execution_count": 17,
      "metadata": {},
      "outputs": [
        {
          "data": {
            "image/png": "[encoded data removed]",
            "text/plain": [
              "<Figure size 1000x500 with 1 Axes>"
            ]
          },
          "metadata": {},
          "output_type": "display_data"
        },
        {
          "data": {
            "image/png": "[encoded data removed]",
            "text/plain": [
              "<Figure size 1000x500 with 1 Axes>"
            ]
          },
          "metadata": {},
          "output_type": "display_data"
        },
        {
          "data": {
            "image/png": "[encoded data removed]",
            "text/plain": [
              "<Figure size 1000x500 with 1 Axes>"
            ]
          },
          "metadata": {},
          "output_type": "display_data"
        },
        {
          "data": {
            "image/png": "[encoded data removed]",
            "text/plain": [
              "<Figure size 1000x500 with 1 Axes>"
            ]
          },
          "metadata": {},
          "output_type": "display_data"
        }
      ],
      "source": [
        "for col in numerical_features:\n",
        "    plt.figure(figsize=(10, 5))\n",
        "    plt.title(f'Distribucion de {col}')\n",
        "    if col == 'stars':\n",
        "        sns.histplot(df[col], bins=50, kde=False)\n",
        "    else:\n",
        "        sns.histplot(df[col], bins=50, kde=True, stat='density')\n",
        "        sns.kdeplot(df[col], color='red')\n",
        "    plt.xlabel(col)\n",
        "    plt.ylabel('Density')\n",
        "    plt.savefig(img_path.joinpath(f'density_{col}_plot.png'))\n",
        "    plt.show()"
      ]
    },
    {
      "cell_type": "code",
      "execution_count": 18,
      "metadata": {},
      "outputs": [
        {
          "data": {
            "image/png": "[encoded data removed]",
            "text/plain": [
              "<Figure size 1200x1200 with 4 Axes>"
            ]
          },
          "metadata": {},
          "output_type": "display_data"
        }
      ],
      "source": [
        "fig, axes = plt.subplots(nrows=2, ncols=2, figsize=(12, 12), squeeze=False)\n",
        "axes = axes.flatten()\n",
        "\n",
        "for i, feature in enumerate(numerical_features):\n",
        "    axes[i].hist(df[feature])\n",
        "    axes[i].set_title(feature.capitalize())\n",
        "\n",
        "fig.tight_layout()\n",
        "plt.savefig(img_path.joinpath('numerical_features_plot.png'))\n",
        "plt.show()"
      ]
    },
    {
      "cell_type": "markdown",
      "metadata": {},
      "source": [
        "# Procesamiento de datos textuales\n",
        "\n",
        "agregar una breve descripcion de como se realizo el procesamiento de los datos textuales."
      ]
    },
    {
      "cell_type": "markdown",
      "metadata": {},
      "source": [
        "## Conteo promedio de letras"
      ]
    },
    {
      "cell_type": "code",
      "execution_count": 20,
      "metadata": {},
      "outputs": [],
      "source": [
        "def count_chars(text):\n",
        "    words = len(text) \n",
        "    return words\n",
        "\n",
        "df['num_chars'] = df['text'].apply(count_chars)"
      ]
    },
    {
      "cell_type": "code",
      "execution_count": 21,
      "metadata": {},
      "outputs": [
        {
          "data": {
            "text/plain": [
              "count    1161545.00\n",
              "mean         533.71\n",
              "std          505.79\n",
              "min            1.00\n",
              "25%          213.00\n",
              "50%          375.00\n",
              "75%          672.00\n",
              "max         5000.00\n",
              "Name: num_chars, dtype: float64"
            ]
          },
          "execution_count": 21,
          "metadata": {},
          "output_type": "execute_result"
        }
      ],
      "source": [
        "df['num_chars'].describe().round(2)"
      ]
    },
    {
      "cell_type": "code",
      "execution_count": 22,
      "metadata": {},
      "outputs": [],
      "source": [
        "num_chars_max = df.loc[df['num_chars'].idxmax()]\n",
        "num_chars_min = df.loc[df['num_chars'].idxmin()]"
      ]
    },
    {
      "cell_type": "code",
      "execution_count": 23,
      "metadata": {},
      "outputs": [
        {
          "data": {
            "text/plain": [
              "review_id      5Z6om3XyVC8uD6u4gBDWSg\n",
              "user_id        3ZYBMnT8-1_jeFqe4SIXjA\n",
              "business_id    l3KAtCq9JPEpzU_vyxqokw\n",
              "stars                             4.5\n",
              "useful                              0\n",
              "funny                               0\n",
              "cool                                0\n",
              "text                                .\n",
              "date              2016-11-28 16:49:15\n",
              "num_chars                           1\n",
              "Name: 244657, dtype: object"
            ]
          },
          "execution_count": 23,
          "metadata": {},
          "output_type": "execute_result"
        }
      ],
      "source": [
        "num_chars_min"
      ]
    },
    {
      "cell_type": "code",
      "execution_count": 24,
      "metadata": {},
      "outputs": [
        {
          "data": {
            "text/plain": [
              "review_id                                 RAZGlxpXchQgosgcNEPfwQ\n",
              "user_id                                   sFZkNjFkg6723Z8nqxUUdw\n",
              "business_id                               mO0NXx8gr5wX4yQRQC4wRQ\n",
              "stars                                                        4.0\n",
              "useful                                                         2\n",
              "funny                                                          6\n",
              "cool                                                           1\n",
              "text           It's Surreal...\\nLet me start by saying this r...\n",
              "date                                         2012-07-23 18:30:54\n",
              "num_chars                                                   5000\n",
              "Name: 19028, dtype: object"
            ]
          },
          "execution_count": 24,
          "metadata": {},
          "output_type": "execute_result"
        }
      ],
      "source": [
        "num_chars_max"
      ]
    },
    {
      "cell_type": "markdown",
      "metadata": {},
      "source": [
        "## Conteo promedio de palabras por reseña"
      ]
    },
    {
      "cell_type": "code",
      "execution_count": 25,
      "metadata": {
        "colab": {
          "base_uri": "https://localhost:8080/"
        },
        "id": "m1vX7bvIyjIE",
        "outputId": "7929b582-7372-4fe8-c228-8eb8c73d8cf6"
      },
      "outputs": [],
      "source": [
        "def count_words(text):\n",
        "  words = text.split()\n",
        "  return len(words)\n",
        "\n",
        "df['num_words'] = df['text'].apply(count_words)"
      ]
    },
    {
      "cell_type": "code",
      "execution_count": 26,
      "metadata": {},
      "outputs": [
        {
          "data": {
            "text/plain": [
              "count    1161545.00\n",
              "mean          98.72\n",
              "std           94.36\n",
              "min            1.00\n",
              "25%           39.00\n",
              "50%           69.00\n",
              "75%          125.00\n",
              "max         1040.00\n",
              "Name: num_words, dtype: float64"
            ]
          },
          "execution_count": 26,
          "metadata": {},
          "output_type": "execute_result"
        }
      ],
      "source": [
        "df['num_words'].describe().round(2)"
      ]
    },
    {
      "cell_type": "code",
      "execution_count": 27,
      "metadata": {},
      "outputs": [],
      "source": [
        "num_words_min = df.loc[df['num_words'].idxmin()]\n",
        "num_words_max = df.loc[df['num_words'].idxmax()]"
      ]
    },
    {
      "cell_type": "code",
      "execution_count": 28,
      "metadata": {},
      "outputs": [
        {
          "data": {
            "text/plain": [
              "review_id      3RBzkqUMmVeM-4mSN8RtoA\n",
              "user_id        179pYEFQ7LXZvphKoMdzBA\n",
              "business_id    gJ9YeSqAMMF0M0-y58j0Gg\n",
              "stars                             3.0\n",
              "useful                              0\n",
              "funny                               0\n",
              "cool                                0\n",
              "text                             Booo\n",
              "date              2014-08-19 20:05:44\n",
              "num_chars                           4\n",
              "num_words                           1\n",
              "Name: 50511, dtype: object"
            ]
          },
          "execution_count": 28,
          "metadata": {},
          "output_type": "execute_result"
        }
      ],
      "source": [
        "num_words_min"
      ]
    },
    {
      "cell_type": "code",
      "execution_count": 29,
      "metadata": {},
      "outputs": [
        {
          "data": {
            "text/plain": [
              "review_id                                 HJDckSCdY6qjBVeU1mqxrg\n",
              "user_id                                   dkzNmbTAd1bFBylPokEw2Q\n",
              "business_id                               mfQA7AU6WHn5NzgBfUq0Rw\n",
              "stars                                                        2.0\n",
              "useful                                                         0\n",
              "funny                                                          0\n",
              "cool                                                           0\n",
              "text           kendra your entire comment to my post is a 100...\n",
              "date                                         2019-04-04 11:12:27\n",
              "num_chars                                                   4952\n",
              "num_words                                                   1040\n",
              "Name: 614403, dtype: object"
            ]
          },
          "execution_count": 29,
          "metadata": {},
          "output_type": "execute_result"
        }
      ],
      "source": [
        "num_words_max"
      ]
    },
    {
      "cell_type": "markdown",
      "metadata": {},
      "source": [
        "## Conteo promedio de palabras por token"
      ]
    },
    {
      "cell_type": "code",
      "execution_count": 30,
      "metadata": {},
      "outputs": [
        {
          "name": "stdout",
          "output_type": "stream",
          "text": [
            "My experience with Shalimar was nothing but wonderful. \n",
            "I wanted to get my engagement ring sized and was told over the phone that it could probably be done within the day. \n",
            "When I brought it by, the team confirmed that the jeweler would be able to accommodate my same-day request and that it would be around $40 (simple band, decrease by three full sizes).\n",
            "I checked my size one more time, confirmed, and left to let them do their thing.\n",
            "When I came to pick up later that afternoon, the ring was too small. It's very important to note that Shalimar sized the ring perfectly, but that I made a mistake and should've gone up a half-size.\n",
            "The Shalimar group were completely understanding and accommodating, even resizing my ring back up and getting it back to me within an hour at no charge! Even though it was my mistake!\n",
            "The associates' attitudes in dealing with what was a pretty embarrassing situation instantly earned my satisfaction and loyalty as a customer. Very grateful for such a wonderful experience.\n"
          ]
        }
      ],
      "source": [
        "text = df.text.to_list()\n",
        "print(text[0])"
      ]
    },
    {
      "cell_type": "code",
      "execution_count": 31,
      "metadata": {},
      "outputs": [],
      "source": [
        "encoding = tiktoken.get_encoding(\"cl100k_base\")\n",
        "\n",
        "def count_tokens_gpt4(text):\n",
        "    num_tokens = len(encoding.encode(text))\n",
        "    return num_tokens\n",
        "\n",
        "df['num_tokens-gpt4'] = df['text'].apply(count_tokens_gpt4)"
      ]
    },
    {
      "cell_type": "code",
      "execution_count": null,
      "metadata": {},
      "outputs": [],
      "source": [
        "df['num_tokens-gpt4'].describe().round(2)"
      ]
    },
    {
      "cell_type": "code",
      "execution_count": null,
      "metadata": {},
      "outputs": [],
      "source": [
        "df.head()"
      ]
    },
    {
      "cell_type": "code",
      "execution_count": null,
      "metadata": {},
      "outputs": [],
      "source": [
        "stop_words = set(stopwords.words('english'))\n",
        "def count_tokens(text):\n",
        "    token = WordPunctTokenizer().tokenize(text)\n",
        "    clean_token=[]\n",
        "    for tok in token:\n",
        "        tok = tok.lower()\n",
        "        new_token = re.sub(r'[^a-zA-Z]+', '', tok) \n",
        "        if new_token != \"\" and len(new_token) >= 2: \n",
        "            vowels=len([v for v in new_token if v in \"aeiou\"])\n",
        "            if vowels != 0:\n",
        "                clean_token.append(new_token)\n",
        "    return len(clean_token)\n",
        "\n",
        "df['num_tokens'] = df['text'].apply(count_tokens)"
      ]
    },
    {
      "cell_type": "code",
      "execution_count": null,
      "metadata": {},
      "outputs": [],
      "source": [
        "df['num_tokens'].describe().round(2)"
      ]
    },
    {
      "cell_type": "code",
      "execution_count": null,
      "metadata": {},
      "outputs": [],
      "source": [
        "for col in df.columns[9:]:\n",
        "    name = col.split('_')[1]\n",
        "    plt.figure(figsize=(10, 5))\n",
        "    plt.hist(df[col], bins=100)\n",
        "    plt.title('Histograma de {}'.format(name))\n",
        "    plt.xlabel('Cantidad de {}'.format(name))\n",
        "    plt.ylabel('Frecuencia')\n",
        "    plt.savefig(f'hist_{name}_plot.png')\n",
        "    plt.show()"
      ]
    },
    {
      "cell_type": "markdown",
      "metadata": {},
      "source": [
        "## cuando empezo YELP a funcionar? este dato es de wikipedia"
      ]
    },
    {
      "cell_type": "code",
      "execution_count": null,
      "metadata": {},
      "outputs": [],
      "source": [
        "df['date'] = pd.to_datetime(df['date'])\n",
        "\n",
        "grouped = df.groupby(df['date'].dt.date).count()['review_id']\n",
        "\n",
        "plt.figure(figsize=(12, 6))\n",
        "plt.plot(grouped.index, grouped.values)\n",
        "\n",
        "plt.gca().xaxis.set_major_formatter(mdates.DateFormatter('%Y-%m'))\n",
        "plt.gca().xaxis.set_major_locator(mdates.DayLocator(interval=150))\n",
        "\n",
        "plt.title(\"Reseñas por fecha\")\n",
        "plt.ylabel(\"Cantidad de reseñas\")\n",
        "plt.xticks(rotation=90) \n",
        "plt.savefig(f'reviews_by_date_plot.png')\n",
        "plt.show()"
      ]
    },
    {
      "cell_type": "markdown",
      "metadata": {},
      "source": [
        "## Bag of words"
      ]
    },
    {
      "cell_type": "code",
      "execution_count": null,
      "metadata": {},
      "outputs": [],
      "source": [
        "def clean_corpus(text):\n",
        "    token = WordPunctTokenizer().tokenize(text) #convierte el texto en tokens\n",
        "    clean_corpus=[]\n",
        "    clean_token=[]\n",
        "    for tok in token:\n",
        "        tok = tok.lower()\n",
        "        new_token = re.sub(r'[^a-zA-Z]+', '', tok) \n",
        "        if new_token != \"\" and len(new_token) >= 2: \n",
        "            vowels=len([v for v in new_token if v in \"aeiou\"])\n",
        "            if vowels != 0:\n",
        "                new_token = [i for i in new_token if not i in stop_words]\n",
        "                clean_token.append(new_token)\n",
        "        clean_corpus.append(clean_token)\n",
        "    return clean_corpus\n",
        "\n",
        "corpus = df['text'].apply(count_tokens)"
      ]
    },
    {
      "cell_type": "code",
      "execution_count": null,
      "metadata": {},
      "outputs": [],
      "source": [
        "corpus"
      ]
    },
    {
      "cell_type": "code",
      "execution_count": null,
      "metadata": {},
      "outputs": [],
      "source": [
        "vectorizer = CountVectorizer(stop_words = 'english')\n",
        "X = vectorizer.fit_transform(corpus)\n",
        "bag_of_words = vectorizer.get_feature_names_out()"
      ]
    },
    {
      "cell_type": "code",
      "execution_count": null,
      "metadata": {},
      "outputs": [],
      "source": [
        "print(\"El tamaño del vocabulario es: \", len(bag_of_words))\n",
        "print(\"Las primeras 10 palabras del vocabulario son: \", bag_of_words[:10])"
      ]
    },
    {
      "cell_type": "code",
      "execution_count": null,
      "metadata": {},
      "outputs": [],
      "source": []
    },
    {
      "cell_type": "code",
      "execution_count": null,
      "metadata": {},
      "outputs": [],
      "source": []
    },
    {
      "cell_type": "code",
      "execution_count": null,
      "metadata": {},
      "outputs": [],
      "source": []
    },
    {
      "cell_type": "code",
      "execution_count": null,
      "metadata": {},
      "outputs": [],
      "source": [
        "punc = string.punctuation\n",
        "stop_words = set(stopwords.words('english'))\n",
        "lem = WordNetLemmatizer()"
      ]
    },
    {
      "cell_type": "code",
      "execution_count": null,
      "metadata": {
        "colab": {
          "base_uri": "https://localhost:8080/"
        },
        "id": "TSm6TnlnQpB0",
        "outputId": "c20b1a1f-e645-45b4-cb26-ebf06bd27ee0"
      },
      "outputs": [],
      "source": [
        "def clean_text(text):\n",
        "    text = text.lower()\n",
        "    text = ''.join([c for c in text if c not in punc])\n",
        "    text = [lem.lemmatize(w) for w in text.split() if w not in stop_words]\n",
        "    return text\n",
        "\n",
        "df['clean_text'] = df['text'].apply(clean_text)"
      ]
    },
    {
      "cell_type": "code",
      "execution_count": null,
      "metadata": {},
      "outputs": [],
      "source": [
        "clean_text= df.clean_text.to_list()\n",
        "\n",
        "print(clean_text[4])"
      ]
    },
    {
      "cell_type": "markdown",
      "metadata": {},
      "source": [
        "# pENDIENTE\n"
      ]
    },
    {
      "cell_type": "code",
      "execution_count": null,
      "metadata": {
        "id": "krfNB821UH3L"
      },
      "outputs": [],
      "source": [
        "from sklearn.feature_extraction.text import TfidfVectorizer\n",
        "\n",
        "vectorizer = TfidfVectorizer()\n",
        "X = vectorizer.fit_transform(df['clean_text'])"
      ]
    },
    {
      "cell_type": "code",
      "execution_count": null,
      "metadata": {
        "id": "Nm9fl_ksUQ7p"
      },
      "outputs": [],
      "source": [
        "from sklearn.cluster import KMeans\n",
        "\n",
        "num_clusters = 5\n",
        "\n",
        "kmeans = KMeans(n_clusters=num_clusters)\n",
        "kmeans.fit(X)\n",
        "\n",
        "df['cluster'] = kmeans.labels_"
      ]
    }
  ],
  "metadata": {
    "colab": {
      "provenance": []
    },
    "kernelspec": {
      "display_name": "Python 3",
      "name": "python3"
    },
    "language_info": {
      "codemirror_mode": {
        "name": "ipython",
        "version": 3
      },
      "file_extension": ".py",
      "mimetype": "text/x-python",
      "name": "python",
      "nbconvert_exporter": "python",
      "pygments_lexer": "ipython3",
      "version": "3.8.17"
    }
  },
  "nbformat": 4,
  "nbformat_minor": 0
}
